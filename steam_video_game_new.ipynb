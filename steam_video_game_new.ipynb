{
 "cells": [
  {
   "cell_type": "markdown",
   "metadata": {
    "id": "WHwPI3DlzBpJ"
   },
   "source": [
    "# STEAM VIDEO GAMES RECOMMENDATION SYSTEM\n",
    "\n",
    "we need to recommend the similar games to the user based on their behaviour"
   ]
  },
  {
   "cell_type": "markdown",
   "metadata": {
    "id": "zcySz1hYzkSm"
   },
   "source": [
    "#About dataset\n",
    "This dataset is a list of user behaviors, with columns: user-id, game-title, behavior-name, value. The behaviors included are 'purchase' and 'play'. The value indicates the degree to which the behavior was performed - in the case of 'purchase' the value is always 1, and in the case of 'play' the value represents the number of hours the user has played the game.\n",
    "\n",
    "steam-200k - (199999, 5)"
   ]
  },
  {
   "cell_type": "markdown",
   "metadata": {
    "id": "7QXgFO_Zzsj6"
   },
   "source": [
    "# Columns in dataset\n",
    "user-id\n",
    "\n",
    "game-title\n",
    "\n",
    "behavior-name\n",
    "\n",
    "value\n",
    "\n",
    "0"
   ]
  },
  {
   "cell_type": "code",
   "execution_count": 1,
   "metadata": {
    "id": "UxedlBqLZiew"
   },
   "outputs": [],
   "source": [
    "# importing all necessary libraries\n",
    "import pandas as pd\n",
    "import numpy as np\n",
    "import seaborn as sns\n",
    "# import cosine similarity\n",
    "from numpy.linalg import norm\n",
    "from sklearn.metrics.pairwise import cosine_similarity"
   ]
  },
  {
   "cell_type": "code",
   "execution_count": 2,
   "metadata": {},
   "outputs": [
    {
     "data": {
      "text/plain": [
       "'C:\\\\Users\\\\Ganti Tejaswi\\\\Machine learning'"
      ]
     },
     "execution_count": 2,
     "metadata": {},
     "output_type": "execute_result"
    }
   ],
   "source": [
    "import os\n",
    "os.getcwd()"
   ]
  },
  {
   "cell_type": "code",
   "execution_count": 3,
   "metadata": {
    "colab": {
     "base_uri": "https://localhost:8080/",
     "height": 206
    },
    "id": "0YPYDltXZidl",
    "outputId": "cecb37c4-939f-4edc-9e44-ab9f0cf61731"
   },
   "outputs": [
    {
     "data": {
      "text/html": [
       "<div>\n",
       "<style scoped>\n",
       "    .dataframe tbody tr th:only-of-type {\n",
       "        vertical-align: middle;\n",
       "    }\n",
       "\n",
       "    .dataframe tbody tr th {\n",
       "        vertical-align: top;\n",
       "    }\n",
       "\n",
       "    .dataframe thead th {\n",
       "        text-align: right;\n",
       "    }\n",
       "</style>\n",
       "<table border=\"1\" class=\"dataframe\">\n",
       "  <thead>\n",
       "    <tr style=\"text-align: right;\">\n",
       "      <th></th>\n",
       "      <th>151603712</th>\n",
       "      <th>The Elder Scrolls V Skyrim</th>\n",
       "      <th>purchase</th>\n",
       "      <th>1.0</th>\n",
       "      <th>0</th>\n",
       "    </tr>\n",
       "  </thead>\n",
       "  <tbody>\n",
       "    <tr>\n",
       "      <th>0</th>\n",
       "      <td>151603712</td>\n",
       "      <td>The Elder Scrolls V Skyrim</td>\n",
       "      <td>play</td>\n",
       "      <td>273.0</td>\n",
       "      <td>0</td>\n",
       "    </tr>\n",
       "    <tr>\n",
       "      <th>1</th>\n",
       "      <td>151603712</td>\n",
       "      <td>Fallout 4</td>\n",
       "      <td>purchase</td>\n",
       "      <td>1.0</td>\n",
       "      <td>0</td>\n",
       "    </tr>\n",
       "    <tr>\n",
       "      <th>2</th>\n",
       "      <td>151603712</td>\n",
       "      <td>Fallout 4</td>\n",
       "      <td>play</td>\n",
       "      <td>87.0</td>\n",
       "      <td>0</td>\n",
       "    </tr>\n",
       "    <tr>\n",
       "      <th>3</th>\n",
       "      <td>151603712</td>\n",
       "      <td>Spore</td>\n",
       "      <td>purchase</td>\n",
       "      <td>1.0</td>\n",
       "      <td>0</td>\n",
       "    </tr>\n",
       "    <tr>\n",
       "      <th>4</th>\n",
       "      <td>151603712</td>\n",
       "      <td>Spore</td>\n",
       "      <td>play</td>\n",
       "      <td>14.9</td>\n",
       "      <td>0</td>\n",
       "    </tr>\n",
       "  </tbody>\n",
       "</table>\n",
       "</div>"
      ],
      "text/plain": [
       "   151603712  The Elder Scrolls V Skyrim  purchase    1.0  0\n",
       "0  151603712  The Elder Scrolls V Skyrim      play  273.0  0\n",
       "1  151603712                   Fallout 4  purchase    1.0  0\n",
       "2  151603712                   Fallout 4      play   87.0  0\n",
       "3  151603712                       Spore  purchase    1.0  0\n",
       "4  151603712                       Spore      play   14.9  0"
      ]
     },
     "execution_count": 3,
     "metadata": {},
     "output_type": "execute_result"
    }
   ],
   "source": [
    "# Reading csv file using pandas\n",
    "df=pd.read_csv('steam-200k.csv')\n",
    "df.head()"
   ]
  },
  {
   "cell_type": "markdown",
   "metadata": {
    "id": "h8Uu6HJ3viSr"
   },
   "source": [
    "# EDA"
   ]
  },
  {
   "cell_type": "code",
   "execution_count": 4,
   "metadata": {
    "colab": {
     "base_uri": "https://localhost:8080/",
     "height": 423
    },
    "id": "WCPhWXucZiaf",
    "outputId": "c2fc2e0e-30b0-4efd-9922-33504b40bf8b"
   },
   "outputs": [
    {
     "data": {
      "text/html": [
       "<div>\n",
       "<style scoped>\n",
       "    .dataframe tbody tr th:only-of-type {\n",
       "        vertical-align: middle;\n",
       "    }\n",
       "\n",
       "    .dataframe tbody tr th {\n",
       "        vertical-align: top;\n",
       "    }\n",
       "\n",
       "    .dataframe thead th {\n",
       "        text-align: right;\n",
       "    }\n",
       "</style>\n",
       "<table border=\"1\" class=\"dataframe\">\n",
       "  <thead>\n",
       "    <tr style=\"text-align: right;\">\n",
       "      <th></th>\n",
       "      <th>user_id</th>\n",
       "      <th>games</th>\n",
       "      <th>Status</th>\n",
       "      <th>Hoursplay</th>\n",
       "      <th>0</th>\n",
       "    </tr>\n",
       "  </thead>\n",
       "  <tbody>\n",
       "    <tr>\n",
       "      <th>0</th>\n",
       "      <td>151603712</td>\n",
       "      <td>The Elder Scrolls V Skyrim</td>\n",
       "      <td>play</td>\n",
       "      <td>273.0</td>\n",
       "      <td>0</td>\n",
       "    </tr>\n",
       "    <tr>\n",
       "      <th>1</th>\n",
       "      <td>151603712</td>\n",
       "      <td>Fallout 4</td>\n",
       "      <td>purchase</td>\n",
       "      <td>1.0</td>\n",
       "      <td>0</td>\n",
       "    </tr>\n",
       "    <tr>\n",
       "      <th>2</th>\n",
       "      <td>151603712</td>\n",
       "      <td>Fallout 4</td>\n",
       "      <td>play</td>\n",
       "      <td>87.0</td>\n",
       "      <td>0</td>\n",
       "    </tr>\n",
       "    <tr>\n",
       "      <th>3</th>\n",
       "      <td>151603712</td>\n",
       "      <td>Spore</td>\n",
       "      <td>purchase</td>\n",
       "      <td>1.0</td>\n",
       "      <td>0</td>\n",
       "    </tr>\n",
       "    <tr>\n",
       "      <th>4</th>\n",
       "      <td>151603712</td>\n",
       "      <td>Spore</td>\n",
       "      <td>play</td>\n",
       "      <td>14.9</td>\n",
       "      <td>0</td>\n",
       "    </tr>\n",
       "  </tbody>\n",
       "</table>\n",
       "</div>"
      ],
      "text/plain": [
       "     user_id                       games    Status  Hoursplay  0\n",
       "0  151603712  The Elder Scrolls V Skyrim      play      273.0  0\n",
       "1  151603712                   Fallout 4  purchase        1.0  0\n",
       "2  151603712                   Fallout 4      play       87.0  0\n",
       "3  151603712                       Spore  purchase        1.0  0\n",
       "4  151603712                       Spore      play       14.9  0"
      ]
     },
     "execution_count": 4,
     "metadata": {},
     "output_type": "execute_result"
    }
   ],
   "source": [
    "# renaming the column name as games user_id, hoursplay and status\n",
    "df.rename(columns={'151603712':'user_id','The Elder Scrolls V Skyrim':'games','purchase':'Status','1.0':'Hoursplay'},inplace=True)\n",
    "df.head()"
   ]
  },
  {
   "cell_type": "code",
   "execution_count": 5,
   "metadata": {
    "colab": {
     "base_uri": "https://localhost:8080/",
     "height": 206
    },
    "id": "FjXsB0ixZiZb",
    "outputId": "d5fe58e2-968b-4f62-b343-29be3b5f1f05"
   },
   "outputs": [
    {
     "name": "stdout",
     "output_type": "stream",
     "text": [
      "(199999, 4)\n"
     ]
    }
   ],
   "source": [
    "#dropping 0 column\n",
    "df=df.drop('0',axis=1)\n",
    "df.head()\n",
    "print(df.shape)"
   ]
  },
  {
   "cell_type": "code",
   "execution_count": 6,
   "metadata": {
    "id": "QeH3M09xJCC-"
   },
   "outputs": [
    {
     "data": {
      "text/html": [
       "<div>\n",
       "<style scoped>\n",
       "    .dataframe tbody tr th:only-of-type {\n",
       "        vertical-align: middle;\n",
       "    }\n",
       "\n",
       "    .dataframe tbody tr th {\n",
       "        vertical-align: top;\n",
       "    }\n",
       "\n",
       "    .dataframe thead th {\n",
       "        text-align: right;\n",
       "    }\n",
       "</style>\n",
       "<table border=\"1\" class=\"dataframe\">\n",
       "  <thead>\n",
       "    <tr style=\"text-align: right;\">\n",
       "      <th></th>\n",
       "      <th>user_id</th>\n",
       "      <th>games</th>\n",
       "      <th>Status</th>\n",
       "      <th>Hoursplay</th>\n",
       "    </tr>\n",
       "  </thead>\n",
       "  <tbody>\n",
       "    <tr>\n",
       "      <th>0</th>\n",
       "      <td>151603712</td>\n",
       "      <td>The Elder Scrolls V Skyrim</td>\n",
       "      <td>play</td>\n",
       "      <td>273.0</td>\n",
       "    </tr>\n",
       "    <tr>\n",
       "      <th>2</th>\n",
       "      <td>151603712</td>\n",
       "      <td>Fallout 4</td>\n",
       "      <td>play</td>\n",
       "      <td>87.0</td>\n",
       "    </tr>\n",
       "    <tr>\n",
       "      <th>4</th>\n",
       "      <td>151603712</td>\n",
       "      <td>Spore</td>\n",
       "      <td>play</td>\n",
       "      <td>14.9</td>\n",
       "    </tr>\n",
       "    <tr>\n",
       "      <th>6</th>\n",
       "      <td>151603712</td>\n",
       "      <td>Fallout New Vegas</td>\n",
       "      <td>play</td>\n",
       "      <td>12.1</td>\n",
       "    </tr>\n",
       "    <tr>\n",
       "      <th>8</th>\n",
       "      <td>151603712</td>\n",
       "      <td>Left 4 Dead 2</td>\n",
       "      <td>play</td>\n",
       "      <td>8.9</td>\n",
       "    </tr>\n",
       "    <tr>\n",
       "      <th>...</th>\n",
       "      <td>...</td>\n",
       "      <td>...</td>\n",
       "      <td>...</td>\n",
       "      <td>...</td>\n",
       "    </tr>\n",
       "    <tr>\n",
       "      <th>199990</th>\n",
       "      <td>128470551</td>\n",
       "      <td>Fallen Earth</td>\n",
       "      <td>play</td>\n",
       "      <td>2.4</td>\n",
       "    </tr>\n",
       "    <tr>\n",
       "      <th>199992</th>\n",
       "      <td>128470551</td>\n",
       "      <td>Magic Duels</td>\n",
       "      <td>play</td>\n",
       "      <td>2.2</td>\n",
       "    </tr>\n",
       "    <tr>\n",
       "      <th>199994</th>\n",
       "      <td>128470551</td>\n",
       "      <td>Titan Souls</td>\n",
       "      <td>play</td>\n",
       "      <td>1.5</td>\n",
       "    </tr>\n",
       "    <tr>\n",
       "      <th>199996</th>\n",
       "      <td>128470551</td>\n",
       "      <td>Grand Theft Auto Vice City</td>\n",
       "      <td>play</td>\n",
       "      <td>1.5</td>\n",
       "    </tr>\n",
       "    <tr>\n",
       "      <th>199998</th>\n",
       "      <td>128470551</td>\n",
       "      <td>RUSH</td>\n",
       "      <td>play</td>\n",
       "      <td>1.4</td>\n",
       "    </tr>\n",
       "  </tbody>\n",
       "</table>\n",
       "<p>128804 rows × 4 columns</p>\n",
       "</div>"
      ],
      "text/plain": [
       "          user_id                       games Status  Hoursplay\n",
       "0       151603712  The Elder Scrolls V Skyrim   play      273.0\n",
       "2       151603712                   Fallout 4   play       87.0\n",
       "4       151603712                       Spore   play       14.9\n",
       "6       151603712           Fallout New Vegas   play       12.1\n",
       "8       151603712               Left 4 Dead 2   play        8.9\n",
       "...           ...                         ...    ...        ...\n",
       "199990  128470551                Fallen Earth   play        2.4\n",
       "199992  128470551                 Magic Duels   play        2.2\n",
       "199994  128470551                 Titan Souls   play        1.5\n",
       "199996  128470551  Grand Theft Auto Vice City   play        1.5\n",
       "199998  128470551                        RUSH   play        1.4\n",
       "\n",
       "[128804 rows x 4 columns]"
      ]
     },
     "execution_count": 6,
     "metadata": {},
     "output_type": "execute_result"
    }
   ],
   "source": [
    "#dropping duplicate user_id and games keep the last one\n",
    "df=df.drop_duplicates(['user_id','games'],keep='last')\n",
    "df"
   ]
  },
  {
   "cell_type": "code",
   "execution_count": 7,
   "metadata": {
    "colab": {
     "base_uri": "https://localhost:8080/"
    },
    "id": "GKdK4DCiv9k8",
    "outputId": "16f7a409-70f9-403a-e4ac-ca90ba6a73f3"
   },
   "outputs": [
    {
     "data": {
      "text/plain": [
       "(128804, 4)"
      ]
     },
     "execution_count": 7,
     "metadata": {},
     "output_type": "execute_result"
    }
   ],
   "source": [
    "#checking the shape of the dataset\n",
    "df.shape"
   ]
  },
  {
   "cell_type": "code",
   "execution_count": 8,
   "metadata": {
    "colab": {
     "base_uri": "https://localhost:8080/"
    },
    "id": "cFWsJSFav9jQ",
    "outputId": "579b3f6d-366f-445f-9593-8c972183f01d"
   },
   "outputs": [
    {
     "data": {
      "text/plain": [
       "Index(['user_id', 'games', 'Status', 'Hoursplay'], dtype='object')"
      ]
     },
     "execution_count": 8,
     "metadata": {},
     "output_type": "execute_result"
    }
   ],
   "source": [
    "#checking columns of the dataset\n",
    "df.columns"
   ]
  },
  {
   "cell_type": "code",
   "execution_count": 9,
   "metadata": {
    "colab": {
     "base_uri": "https://localhost:8080/"
    },
    "id": "cfmQuScuv9gu",
    "outputId": "c0bb323b-a610-40ef-c4f6-1cf46812fa23"
   },
   "outputs": [
    {
     "name": "stdout",
     "output_type": "stream",
     "text": [
      "<class 'pandas.core.frame.DataFrame'>\n",
      "Int64Index: 128804 entries, 0 to 199998\n",
      "Data columns (total 4 columns):\n",
      " #   Column     Non-Null Count   Dtype  \n",
      "---  ------     --------------   -----  \n",
      " 0   user_id    128804 non-null  int64  \n",
      " 1   games      128804 non-null  object \n",
      " 2   Status     128804 non-null  object \n",
      " 3   Hoursplay  128804 non-null  float64\n",
      "dtypes: float64(1), int64(1), object(2)\n",
      "memory usage: 4.9+ MB\n"
     ]
    }
   ],
   "source": [
    "# Checking which columns are having categorical, numerical or boolean values of dataset\n",
    "df.info()"
   ]
  },
  {
   "cell_type": "code",
   "execution_count": 10,
   "metadata": {
    "colab": {
     "base_uri": "https://localhost:8080/"
    },
    "id": "4SAr4k5Wv9eS",
    "outputId": "d426082e-6977-462f-deed-14febbe7a89f"
   },
   "outputs": [
    {
     "data": {
      "text/plain": [
       "user_id      0\n",
       "games        0\n",
       "Status       0\n",
       "Hoursplay    0\n",
       "dtype: int64"
      ]
     },
     "execution_count": 10,
     "metadata": {},
     "output_type": "execute_result"
    }
   ],
   "source": [
    "# Checking for missing values in all the columnns of the train_dataset\n",
    "df.isnull().sum()"
   ]
  },
  {
   "cell_type": "code",
   "execution_count": 11,
   "metadata": {},
   "outputs": [
    {
     "data": {
      "text/plain": [
       "array(['The Elder Scrolls V Skyrim', 'Fallout 4', 'Spore', ...,\n",
       "       'Space Colony', 'Life is Hard', 'Executive Assault'], dtype=object)"
      ]
     },
     "execution_count": 11,
     "metadata": {},
     "output_type": "execute_result"
    }
   ],
   "source": [
    "df['games'].unique()"
   ]
  },
  {
   "cell_type": "code",
   "execution_count": 12,
   "metadata": {
    "colab": {
     "base_uri": "https://localhost:8080/"
    },
    "id": "fGOiyPTkv9cC",
    "outputId": "8e79cfab-684e-4946-9009-eec50c229583"
   },
   "outputs": [
    {
     "data": {
      "text/plain": [
       "Dota 2                              4841\n",
       "Team Fortress 2                     2323\n",
       "Unturned                            1563\n",
       "Counter-Strike Global Offensive     1412\n",
       "Half-Life 2 Lost Coast               981\n",
       "                                    ... \n",
       "iBomber Attack                         1\n",
       "The Dreamatorium of Dr. Magnus 2       1\n",
       "Verde Station                          1\n",
       "TRIP Steam Edition                     1\n",
       "Executive Assault                      1\n",
       "Name: games, Length: 5155, dtype: int64"
      ]
     },
     "execution_count": 12,
     "metadata": {},
     "output_type": "execute_result"
    }
   ],
   "source": [
    "# getting how many unique values are in games column of dataset\n",
    "df['games'].value_counts()"
   ]
  },
  {
   "cell_type": "code",
   "execution_count": 13,
   "metadata": {
    "colab": {
     "base_uri": "https://localhost:8080/"
    },
    "id": "QgE7Fw_Nv9aA",
    "outputId": "e6fe27be-2d96-4b89-b7f9-8211783d2f43"
   },
   "outputs": [
    {
     "data": {
      "text/plain": [
       "play        70205\n",
       "purchase    58599\n",
       "Name: Status, dtype: int64"
      ]
     },
     "execution_count": 13,
     "metadata": {},
     "output_type": "execute_result"
    }
   ],
   "source": [
    "# getting the total count of play and total count of purchase\n",
    "df.Status.value_counts()"
   ]
  },
  {
   "cell_type": "code",
   "execution_count": 14,
   "metadata": {
    "colab": {
     "base_uri": "https://localhost:8080/",
     "height": 297
    },
    "id": "1VxaHrDfv9Wo",
    "outputId": "065ab338-92b6-44f5-b1f4-9c027d84cf80"
   },
   "outputs": [
    {
     "data": {
      "text/html": [
       "<div>\n",
       "<style scoped>\n",
       "    .dataframe tbody tr th:only-of-type {\n",
       "        vertical-align: middle;\n",
       "    }\n",
       "\n",
       "    .dataframe tbody tr th {\n",
       "        vertical-align: top;\n",
       "    }\n",
       "\n",
       "    .dataframe thead th {\n",
       "        text-align: right;\n",
       "    }\n",
       "</style>\n",
       "<table border=\"1\" class=\"dataframe\">\n",
       "  <thead>\n",
       "    <tr style=\"text-align: right;\">\n",
       "      <th></th>\n",
       "      <th>user_id</th>\n",
       "      <th>Hoursplay</th>\n",
       "    </tr>\n",
       "  </thead>\n",
       "  <tbody>\n",
       "    <tr>\n",
       "      <th>count</th>\n",
       "      <td>1.288040e+05</td>\n",
       "      <td>128804.000000</td>\n",
       "    </tr>\n",
       "    <tr>\n",
       "      <th>mean</th>\n",
       "      <td>1.025343e+08</td>\n",
       "      <td>27.150648</td>\n",
       "    </tr>\n",
       "    <tr>\n",
       "      <th>std</th>\n",
       "      <td>7.242875e+07</td>\n",
       "      <td>171.276192</td>\n",
       "    </tr>\n",
       "    <tr>\n",
       "      <th>min</th>\n",
       "      <td>5.250000e+03</td>\n",
       "      <td>0.100000</td>\n",
       "    </tr>\n",
       "    <tr>\n",
       "      <th>25%</th>\n",
       "      <td>4.559264e+07</td>\n",
       "      <td>1.000000</td>\n",
       "    </tr>\n",
       "    <tr>\n",
       "      <th>50%</th>\n",
       "      <td>8.605570e+07</td>\n",
       "      <td>1.000000</td>\n",
       "    </tr>\n",
       "    <tr>\n",
       "      <th>75%</th>\n",
       "      <td>1.542307e+08</td>\n",
       "      <td>5.700000</td>\n",
       "    </tr>\n",
       "    <tr>\n",
       "      <th>max</th>\n",
       "      <td>3.099031e+08</td>\n",
       "      <td>11754.000000</td>\n",
       "    </tr>\n",
       "  </tbody>\n",
       "</table>\n",
       "</div>"
      ],
      "text/plain": [
       "            user_id      Hoursplay\n",
       "count  1.288040e+05  128804.000000\n",
       "mean   1.025343e+08      27.150648\n",
       "std    7.242875e+07     171.276192\n",
       "min    5.250000e+03       0.100000\n",
       "25%    4.559264e+07       1.000000\n",
       "50%    8.605570e+07       1.000000\n",
       "75%    1.542307e+08       5.700000\n",
       "max    3.099031e+08   11754.000000"
      ]
     },
     "execution_count": 14,
     "metadata": {},
     "output_type": "execute_result"
    }
   ],
   "source": [
    "# For more information on the dataset like the total count in all the columns\n",
    "# min, max values and more information of the respective columns  \n",
    "df.describe()"
   ]
  },
  {
   "cell_type": "markdown",
   "metadata": {
    "id": "3CgbroNkKA5F"
   },
   "source": [
    "## visualizing data"
   ]
  },
  {
   "cell_type": "code",
   "execution_count": 15,
   "metadata": {
    "colab": {
     "base_uri": "https://localhost:8080/",
     "height": 565
    },
    "id": "5OuxsDTIv9VK",
    "outputId": "9b3b61f3-4ee4-4d40-fc38-8beecda3ea09"
   },
   "outputs": [
    {
     "data": {
      "text/plain": [
       "array([[<AxesSubplot:title={'center':'user_id'}>,\n",
       "        <AxesSubplot:title={'center':'Hoursplay'}>]], dtype=object)"
      ]
     },
     "execution_count": 15,
     "metadata": {},
     "output_type": "execute_result"
    },
    {
     "data": {
      "image/png": "[encoded data removed]",
      "text/plain": [
       "<Figure size 864x360 with 2 Axes>"
      ]
     },
     "metadata": {
      "needs_background": "light"
     },
     "output_type": "display_data"
    }
   ],
   "source": [
    "# Histogram using pandas \n",
    "df.hist(figsize=(12,5))"
   ]
  },
  {
   "cell_type": "code",
   "execution_count": 16,
   "metadata": {
    "colab": {
     "base_uri": "https://localhost:8080/",
     "height": 281
    },
    "id": "8XQcDkwiv9Rx",
    "outputId": "95b94297-5636-4eef-d131-0c45157a73d7"
   },
   "outputs": [
    {
     "data": {
      "text/plain": [
       "Text(0.5, 1.0, 'Status column frequency')"
      ]
     },
     "execution_count": 16,
     "metadata": {},
     "output_type": "execute_result"
    },
    {
     "data": {
      "image/png": "[encoded data removed]",
      "text/plain": [
       "<Figure size 432x288 with 1 Axes>"
      ]
     },
     "metadata": {
      "needs_background": "light"
     },
     "output_type": "display_data"
    }
   ],
   "source": [
    "# plotting a horizontal bar plot of column status\n",
    "df['Status'].value_counts().plot.barh().set_title('Status column frequency')"
   ]
  },
  {
   "cell_type": "code",
   "execution_count": 17,
   "metadata": {
    "colab": {
     "base_uri": "https://localhost:8080/",
     "height": 283
    },
    "id": "o45Z0Ngav9Mt",
    "outputId": "0e5c4971-b28c-4b4b-f738-37c68cfb116f"
   },
   "outputs": [
    {
     "data": {
      "text/plain": [
       "<AxesSubplot:>"
      ]
     },
     "execution_count": 17,
     "metadata": {},
     "output_type": "execute_result"
    },
    {
     "data": {
      "image/png": "[encoded data removed]",
      "text/plain": [
       "<Figure size 432x288 with 1 Axes>"
      ]
     },
     "metadata": {
      "needs_background": "light"
     },
     "output_type": "display_data"
    }
   ],
   "source": [
    "#plotting a count plot of hoursplay column\n",
    "df['Hoursplay'].plot()"
   ]
  },
  {
   "cell_type": "code",
   "execution_count": 18,
   "metadata": {
    "colab": {
     "base_uri": "https://localhost:8080/",
     "height": 338
    },
    "id": "e2ddFJDbv9La",
    "outputId": "f01df9ee-98f4-4dff-aa9c-c72c23f41cab"
   },
   "outputs": [
    {
     "data": {
      "text/plain": [
       "<AxesSubplot:>"
      ]
     },
     "execution_count": 18,
     "metadata": {},
     "output_type": "execute_result"
    },
    {
     "data": {
      "image/png": "[encoded data removed]",
      "text/plain": [
       "<Figure size 1152x576 with 1 Axes>"
      ]
     },
     "metadata": {
      "needs_background": "light"
     },
     "output_type": "display_data"
    }
   ],
   "source": [
    "# plotting a horizontal bar plot of games column for top 30 games\n",
    "df['games'].value_counts().head(30).plot(kind='barh',figsize=(16,8))"
   ]
  },
  {
   "cell_type": "code",
   "execution_count": 19,
   "metadata": {
    "colab": {
     "base_uri": "https://localhost:8080/",
     "height": 297
    },
    "id": "eZUuyLejv9IQ",
    "outputId": "37257f4a-7222-4fe9-8295-55d98f701eed"
   },
   "outputs": [
    {
     "data": {
      "text/plain": [
       "<AxesSubplot:xlabel='Status', ylabel='Hoursplay'>"
      ]
     },
     "execution_count": 19,
     "metadata": {},
     "output_type": "execute_result"
    },
    {
     "data": {
      "image/png": "[encoded data removed]",
      "text/plain": [
       "<Figure size 432x288 with 1 Axes>"
      ]
     },
     "metadata": {
      "needs_background": "light"
     },
     "output_type": "display_data"
    }
   ],
   "source": [
    "# plotting a boxplot of status as x-axis and hoursplay as y-axis\n",
    "sns.boxplot(x='Status',y='Hoursplay',data=df,palette='rainbow')"
   ]
  },
  {
   "attachments": {
    "065d410b-e729-480b-8162-37997cf93c69.png": {
     "image/png": "[encoded data removed]"
    }
   },
   "cell_type": "markdown",
   "metadata": {
    "id": "oLP2qFAMvcK8"
   },
   "source": [
    "![download.png](attachment:065d410b-e729-480b-8162-37997cf93c69.png)# converting hours to rating"
   ]
  },
  {
   "cell_type": "code",
   "execution_count": 26,
   "metadata": {
    "colab": {
     "base_uri": "https://localhost:8080/",
     "height": 527
    },
    "id": "eiGi1BNMZiT2",
    "outputId": "583a5f9a-7579-4565-8ba2-deb933b20826"
   },
   "outputs": [
    {
     "data": {
      "text/html": [
       "<div>\n",
       "<style scoped>\n",
       "    .dataframe tbody tr th:only-of-type {\n",
       "        vertical-align: middle;\n",
       "    }\n",
       "\n",
       "    .dataframe tbody tr th {\n",
       "        vertical-align: top;\n",
       "    }\n",
       "\n",
       "    .dataframe thead th {\n",
       "        text-align: right;\n",
       "    }\n",
       "</style>\n",
       "<table border=\"1\" class=\"dataframe\">\n",
       "  <thead>\n",
       "    <tr style=\"text-align: right;\">\n",
       "      <th></th>\n",
       "      <th>user_id</th>\n",
       "      <th>games</th>\n",
       "      <th>Status</th>\n",
       "      <th>Hoursplay</th>\n",
       "      <th>avg_Hoursplay</th>\n",
       "      <th>rating</th>\n",
       "    </tr>\n",
       "  </thead>\n",
       "  <tbody>\n",
       "    <tr>\n",
       "      <th>0</th>\n",
       "      <td>151603712</td>\n",
       "      <td>The Elder Scrolls V Skyrim</td>\n",
       "      <td>play</td>\n",
       "      <td>273.0</td>\n",
       "      <td>115.351792</td>\n",
       "      <td>5</td>\n",
       "    </tr>\n",
       "    <tr>\n",
       "      <th>1</th>\n",
       "      <td>59945701</td>\n",
       "      <td>The Elder Scrolls V Skyrim</td>\n",
       "      <td>play</td>\n",
       "      <td>58.0</td>\n",
       "      <td>115.351792</td>\n",
       "      <td>3</td>\n",
       "    </tr>\n",
       "    <tr>\n",
       "      <th>2</th>\n",
       "      <td>92107940</td>\n",
       "      <td>The Elder Scrolls V Skyrim</td>\n",
       "      <td>play</td>\n",
       "      <td>110.0</td>\n",
       "      <td>115.351792</td>\n",
       "      <td>5</td>\n",
       "    </tr>\n",
       "    <tr>\n",
       "      <th>3</th>\n",
       "      <td>250006052</td>\n",
       "      <td>The Elder Scrolls V Skyrim</td>\n",
       "      <td>play</td>\n",
       "      <td>465.0</td>\n",
       "      <td>115.351792</td>\n",
       "      <td>5</td>\n",
       "    </tr>\n",
       "    <tr>\n",
       "      <th>4</th>\n",
       "      <td>11373749</td>\n",
       "      <td>The Elder Scrolls V Skyrim</td>\n",
       "      <td>play</td>\n",
       "      <td>220.0</td>\n",
       "      <td>115.351792</td>\n",
       "      <td>5</td>\n",
       "    </tr>\n",
       "    <tr>\n",
       "      <th>...</th>\n",
       "      <td>...</td>\n",
       "      <td>...</td>\n",
       "      <td>...</td>\n",
       "      <td>...</td>\n",
       "      <td>...</td>\n",
       "      <td>...</td>\n",
       "    </tr>\n",
       "    <tr>\n",
       "      <th>36415</th>\n",
       "      <td>51822361</td>\n",
       "      <td>Warhammer 40,000 Dawn of War  Soulstorm</td>\n",
       "      <td>play</td>\n",
       "      <td>23.0</td>\n",
       "      <td>14.109091</td>\n",
       "      <td>5</td>\n",
       "    </tr>\n",
       "    <tr>\n",
       "      <th>36416</th>\n",
       "      <td>38317154</td>\n",
       "      <td>Warhammer 40,000 Dawn of War  Soulstorm</td>\n",
       "      <td>play</td>\n",
       "      <td>5.5</td>\n",
       "      <td>14.109091</td>\n",
       "      <td>2</td>\n",
       "    </tr>\n",
       "    <tr>\n",
       "      <th>36417</th>\n",
       "      <td>36404933</td>\n",
       "      <td>Warhammer 40,000 Dawn of War  Soulstorm</td>\n",
       "      <td>play</td>\n",
       "      <td>5.8</td>\n",
       "      <td>14.109091</td>\n",
       "      <td>3</td>\n",
       "    </tr>\n",
       "    <tr>\n",
       "      <th>36418</th>\n",
       "      <td>87201181</td>\n",
       "      <td>Warhammer 40,000 Dawn of War  Soulstorm</td>\n",
       "      <td>play</td>\n",
       "      <td>24.0</td>\n",
       "      <td>14.109091</td>\n",
       "      <td>5</td>\n",
       "    </tr>\n",
       "    <tr>\n",
       "      <th>36419</th>\n",
       "      <td>34901647</td>\n",
       "      <td>Warhammer 40,000 Dawn of War  Soulstorm</td>\n",
       "      <td>play</td>\n",
       "      <td>15.4</td>\n",
       "      <td>14.109091</td>\n",
       "      <td>5</td>\n",
       "    </tr>\n",
       "  </tbody>\n",
       "</table>\n",
       "<p>36420 rows × 6 columns</p>\n",
       "</div>"
      ],
      "text/plain": [
       "         user_id                                    games Status  Hoursplay  \\\n",
       "0      151603712               The Elder Scrolls V Skyrim   play      273.0   \n",
       "1       59945701               The Elder Scrolls V Skyrim   play       58.0   \n",
       "2       92107940               The Elder Scrolls V Skyrim   play      110.0   \n",
       "3      250006052               The Elder Scrolls V Skyrim   play      465.0   \n",
       "4       11373749               The Elder Scrolls V Skyrim   play      220.0   \n",
       "...          ...                                      ...    ...        ...   \n",
       "36415   51822361  Warhammer 40,000 Dawn of War  Soulstorm   play       23.0   \n",
       "36416   38317154  Warhammer 40,000 Dawn of War  Soulstorm   play        5.5   \n",
       "36417   36404933  Warhammer 40,000 Dawn of War  Soulstorm   play        5.8   \n",
       "36418   87201181  Warhammer 40,000 Dawn of War  Soulstorm   play       24.0   \n",
       "36419   34901647  Warhammer 40,000 Dawn of War  Soulstorm   play       15.4   \n",
       "\n",
       "       avg_Hoursplay  rating  \n",
       "0         115.351792       5  \n",
       "1         115.351792       3  \n",
       "2         115.351792       5  \n",
       "3         115.351792       5  \n",
       "4         115.351792       5  \n",
       "...              ...     ...  \n",
       "36415      14.109091       5  \n",
       "36416      14.109091       2  \n",
       "36417      14.109091       3  \n",
       "36418      14.109091       5  \n",
       "36419      14.109091       5  \n",
       "\n",
       "[36420 rows x 6 columns]"
      ]
     },
     "execution_count": 26,
     "metadata": {},
     "output_type": "execute_result"
    }
   ],
   "source": [
    "# comverting the hoursplay into rating\n",
    "df=df[(df['Hoursplay']>=2)&(df['Status']=='play')]\n",
    "df_fil=df[df.groupby('games').user_id.transform(len)>=20]\n",
    "df_fil['games'].nunique()\n",
    "df_fil.head(20)\n",
    "\n",
    "df['user_id']=df_fil['user_id'].astype(str)\n",
    "avg=df_fil.groupby(['games'],as_index=False).Hoursplay.mean()\n",
    "avg['avg_Hoursplay']=avg['Hoursplay']\n",
    "avg.drop('Hoursplay',axis=1,inplace=True)\n",
    "\n",
    "final_ratings=pd.merge(df_fil,avg[['games','avg_Hoursplay']],on='games')\n",
    "\n",
    "conditions=[\n",
    "    (final_ratings['Hoursplay']>=0.8*final_ratings['avg_Hoursplay']),\n",
    "    (final_ratings['Hoursplay']>=0.6*final_ratings['avg_Hoursplay']) &\n",
    "    (final_ratings['Hoursplay']<0.8*final_ratings['avg_Hoursplay']),\n",
    "    (final_ratings['Hoursplay']>=0.4*final_ratings['avg_Hoursplay']) &\n",
    "    (final_ratings['Hoursplay']<0.6*final_ratings['avg_Hoursplay']),\n",
    "     (final_ratings['Hoursplay']>=0.2*final_ratings['avg_Hoursplay'])&\n",
    "    (final_ratings['Hoursplay']<0.4*final_ratings['avg_Hoursplay']),\n",
    "    final_ratings['Hoursplay']>=0]\n",
    "values=[5,4,3,2,1]\n",
    "\n",
    "final_ratings['rating']=np.select(conditions,values)\n",
    "final_ratings\n"
   ]
  },
  {
   "cell_type": "code",
   "execution_count": 27,
   "metadata": {
    "colab": {
     "base_uri": "https://localhost:8080/",
     "height": 423
    },
    "id": "XXBW4xzzZiPv",
    "outputId": "ecc17db9-0d2e-4952-d1a3-ec0d9bb8e5a8"
   },
   "outputs": [
    {
     "data": {
      "text/html": [
       "<div>\n",
       "<style scoped>\n",
       "    .dataframe tbody tr th:only-of-type {\n",
       "        vertical-align: middle;\n",
       "    }\n",
       "\n",
       "    .dataframe tbody tr th {\n",
       "        vertical-align: top;\n",
       "    }\n",
       "\n",
       "    .dataframe thead th {\n",
       "        text-align: right;\n",
       "    }\n",
       "</style>\n",
       "<table border=\"1\" class=\"dataframe\">\n",
       "  <thead>\n",
       "    <tr style=\"text-align: right;\">\n",
       "      <th></th>\n",
       "      <th>user_id</th>\n",
       "      <th>games</th>\n",
       "      <th>rating</th>\n",
       "    </tr>\n",
       "  </thead>\n",
       "  <tbody>\n",
       "    <tr>\n",
       "      <th>0</th>\n",
       "      <td>151603712</td>\n",
       "      <td>The Elder Scrolls V Skyrim</td>\n",
       "      <td>5</td>\n",
       "    </tr>\n",
       "    <tr>\n",
       "      <th>1</th>\n",
       "      <td>59945701</td>\n",
       "      <td>The Elder Scrolls V Skyrim</td>\n",
       "      <td>3</td>\n",
       "    </tr>\n",
       "    <tr>\n",
       "      <th>2</th>\n",
       "      <td>92107940</td>\n",
       "      <td>The Elder Scrolls V Skyrim</td>\n",
       "      <td>5</td>\n",
       "    </tr>\n",
       "    <tr>\n",
       "      <th>3</th>\n",
       "      <td>250006052</td>\n",
       "      <td>The Elder Scrolls V Skyrim</td>\n",
       "      <td>5</td>\n",
       "    </tr>\n",
       "    <tr>\n",
       "      <th>4</th>\n",
       "      <td>11373749</td>\n",
       "      <td>The Elder Scrolls V Skyrim</td>\n",
       "      <td>5</td>\n",
       "    </tr>\n",
       "    <tr>\n",
       "      <th>...</th>\n",
       "      <td>...</td>\n",
       "      <td>...</td>\n",
       "      <td>...</td>\n",
       "    </tr>\n",
       "    <tr>\n",
       "      <th>36415</th>\n",
       "      <td>51822361</td>\n",
       "      <td>Warhammer 40,000 Dawn of War  Soulstorm</td>\n",
       "      <td>5</td>\n",
       "    </tr>\n",
       "    <tr>\n",
       "      <th>36416</th>\n",
       "      <td>38317154</td>\n",
       "      <td>Warhammer 40,000 Dawn of War  Soulstorm</td>\n",
       "      <td>2</td>\n",
       "    </tr>\n",
       "    <tr>\n",
       "      <th>36417</th>\n",
       "      <td>36404933</td>\n",
       "      <td>Warhammer 40,000 Dawn of War  Soulstorm</td>\n",
       "      <td>3</td>\n",
       "    </tr>\n",
       "    <tr>\n",
       "      <th>36418</th>\n",
       "      <td>87201181</td>\n",
       "      <td>Warhammer 40,000 Dawn of War  Soulstorm</td>\n",
       "      <td>5</td>\n",
       "    </tr>\n",
       "    <tr>\n",
       "      <th>36419</th>\n",
       "      <td>34901647</td>\n",
       "      <td>Warhammer 40,000 Dawn of War  Soulstorm</td>\n",
       "      <td>5</td>\n",
       "    </tr>\n",
       "  </tbody>\n",
       "</table>\n",
       "<p>36420 rows × 3 columns</p>\n",
       "</div>"
      ],
      "text/plain": [
       "         user_id                                    games  rating\n",
       "0      151603712               The Elder Scrolls V Skyrim       5\n",
       "1       59945701               The Elder Scrolls V Skyrim       3\n",
       "2       92107940               The Elder Scrolls V Skyrim       5\n",
       "3      250006052               The Elder Scrolls V Skyrim       5\n",
       "4       11373749               The Elder Scrolls V Skyrim       5\n",
       "...          ...                                      ...     ...\n",
       "36415   51822361  Warhammer 40,000 Dawn of War  Soulstorm       5\n",
       "36416   38317154  Warhammer 40,000 Dawn of War  Soulstorm       2\n",
       "36417   36404933  Warhammer 40,000 Dawn of War  Soulstorm       3\n",
       "36418   87201181  Warhammer 40,000 Dawn of War  Soulstorm       5\n",
       "36419   34901647  Warhammer 40,000 Dawn of War  Soulstorm       5\n",
       "\n",
       "[36420 rows x 3 columns]"
      ]
     },
     "execution_count": 27,
     "metadata": {},
     "output_type": "execute_result"
    }
   ],
   "source": [
    "# keeping only important columns( user_id, games,rating ) drop everthing else \n",
    "final_ratings1=final_ratings[['user_id','games','rating']]\n",
    "final_ratings1"
   ]
  },
  {
   "cell_type": "markdown",
   "metadata": {
    "id": "fUuhTgxTvWAL"
   },
   "source": [
    "# MEMORY BASED COLLABORATIVE FILTERING\n",
    "\n"
   ]
  },
  {
   "cell_type": "code",
   "execution_count": 32,
   "metadata": {
    "id": "Ldaj40pJc5Lr"
   },
   "outputs": [],
   "source": [
    "#importing pairwise_distances, cosine, corelation\n",
    "from sklearn.metrics import pairwise_distances\n",
    "from scipy.spatial.distance import cosine,correlation\n",
    "import math"
   ]
  },
  {
   "cell_type": "code",
   "execution_count": 36,
   "metadata": {
    "id": "J8C5ykDCUbQe"
   },
   "outputs": [],
   "source": [
    "# creating pivot table containing user_id as index, games as columns, ratings as values\n",
    "piv=final_ratings1.pivot_table(index=['user_id'],columns=['games'],values='rating')"
   ]
  },
  {
   "cell_type": "code",
   "execution_count": 37,
   "metadata": {
    "colab": {
     "base_uri": "https://localhost:8080/",
     "height": 391
    },
    "id": "Lbgw7l06UbOx",
    "outputId": "5e9053fd-1c01-46e8-cd5a-e5cfeea1ab45"
   },
   "outputs": [
    {
     "name": "stdout",
     "output_type": "stream",
     "text": [
      "(8309, 427)\n"
     ]
    },
    {
     "data": {
      "text/html": [
       "<div>\n",
       "<style scoped>\n",
       "    .dataframe tbody tr th:only-of-type {\n",
       "        vertical-align: middle;\n",
       "    }\n",
       "\n",
       "    .dataframe tbody tr th {\n",
       "        vertical-align: top;\n",
       "    }\n",
       "\n",
       "    .dataframe thead th {\n",
       "        text-align: right;\n",
       "    }\n",
       "</style>\n",
       "<table border=\"1\" class=\"dataframe\">\n",
       "  <thead>\n",
       "    <tr style=\"text-align: right;\">\n",
       "      <th>games</th>\n",
       "      <th>7 Days to Die</th>\n",
       "      <th>APB Reloaded</th>\n",
       "      <th>ARK Survival Evolved</th>\n",
       "      <th>Ace of Spades</th>\n",
       "      <th>AdVenture Capitalist</th>\n",
       "      <th>Aftermath</th>\n",
       "      <th>Age of Chivalry</th>\n",
       "      <th>Age of Empires II HD Edition</th>\n",
       "      <th>Age of Empires III Complete Collection</th>\n",
       "      <th>Age of Mythology Extended Edition</th>\n",
       "      <th>...</th>\n",
       "      <th>Warhammer 40,000 Dawn of War II - Chaos Rising</th>\n",
       "      <th>Warhammer 40,000 Space Marine</th>\n",
       "      <th>Wasteland 2</th>\n",
       "      <th>Watch_Dogs</th>\n",
       "      <th>Wolfenstein The New Order</th>\n",
       "      <th>Worms Reloaded</th>\n",
       "      <th>Worms Revolution</th>\n",
       "      <th>XCOM Enemy Unknown</th>\n",
       "      <th>Zombie Panic Source</th>\n",
       "      <th>theHunter</th>\n",
       "    </tr>\n",
       "    <tr>\n",
       "      <th>user_id</th>\n",
       "      <th></th>\n",
       "      <th></th>\n",
       "      <th></th>\n",
       "      <th></th>\n",
       "      <th></th>\n",
       "      <th></th>\n",
       "      <th></th>\n",
       "      <th></th>\n",
       "      <th></th>\n",
       "      <th></th>\n",
       "      <th></th>\n",
       "      <th></th>\n",
       "      <th></th>\n",
       "      <th></th>\n",
       "      <th></th>\n",
       "      <th></th>\n",
       "      <th></th>\n",
       "      <th></th>\n",
       "      <th></th>\n",
       "      <th></th>\n",
       "      <th></th>\n",
       "    </tr>\n",
       "  </thead>\n",
       "  <tbody>\n",
       "    <tr>\n",
       "      <th>100053304</th>\n",
       "      <td>NaN</td>\n",
       "      <td>NaN</td>\n",
       "      <td>NaN</td>\n",
       "      <td>NaN</td>\n",
       "      <td>NaN</td>\n",
       "      <td>NaN</td>\n",
       "      <td>NaN</td>\n",
       "      <td>NaN</td>\n",
       "      <td>NaN</td>\n",
       "      <td>NaN</td>\n",
       "      <td>...</td>\n",
       "      <td>NaN</td>\n",
       "      <td>NaN</td>\n",
       "      <td>NaN</td>\n",
       "      <td>NaN</td>\n",
       "      <td>NaN</td>\n",
       "      <td>NaN</td>\n",
       "      <td>NaN</td>\n",
       "      <td>NaN</td>\n",
       "      <td>NaN</td>\n",
       "      <td>NaN</td>\n",
       "    </tr>\n",
       "    <tr>\n",
       "      <th>100057229</th>\n",
       "      <td>NaN</td>\n",
       "      <td>NaN</td>\n",
       "      <td>NaN</td>\n",
       "      <td>NaN</td>\n",
       "      <td>NaN</td>\n",
       "      <td>NaN</td>\n",
       "      <td>NaN</td>\n",
       "      <td>NaN</td>\n",
       "      <td>NaN</td>\n",
       "      <td>NaN</td>\n",
       "      <td>...</td>\n",
       "      <td>NaN</td>\n",
       "      <td>NaN</td>\n",
       "      <td>NaN</td>\n",
       "      <td>NaN</td>\n",
       "      <td>NaN</td>\n",
       "      <td>NaN</td>\n",
       "      <td>NaN</td>\n",
       "      <td>NaN</td>\n",
       "      <td>NaN</td>\n",
       "      <td>NaN</td>\n",
       "    </tr>\n",
       "    <tr>\n",
       "      <th>100070732</th>\n",
       "      <td>NaN</td>\n",
       "      <td>NaN</td>\n",
       "      <td>NaN</td>\n",
       "      <td>NaN</td>\n",
       "      <td>NaN</td>\n",
       "      <td>NaN</td>\n",
       "      <td>NaN</td>\n",
       "      <td>NaN</td>\n",
       "      <td>NaN</td>\n",
       "      <td>NaN</td>\n",
       "      <td>...</td>\n",
       "      <td>NaN</td>\n",
       "      <td>NaN</td>\n",
       "      <td>NaN</td>\n",
       "      <td>NaN</td>\n",
       "      <td>NaN</td>\n",
       "      <td>NaN</td>\n",
       "      <td>NaN</td>\n",
       "      <td>NaN</td>\n",
       "      <td>NaN</td>\n",
       "      <td>NaN</td>\n",
       "    </tr>\n",
       "    <tr>\n",
       "      <th>100096071</th>\n",
       "      <td>NaN</td>\n",
       "      <td>NaN</td>\n",
       "      <td>NaN</td>\n",
       "      <td>NaN</td>\n",
       "      <td>NaN</td>\n",
       "      <td>NaN</td>\n",
       "      <td>NaN</td>\n",
       "      <td>NaN</td>\n",
       "      <td>NaN</td>\n",
       "      <td>NaN</td>\n",
       "      <td>...</td>\n",
       "      <td>NaN</td>\n",
       "      <td>NaN</td>\n",
       "      <td>NaN</td>\n",
       "      <td>NaN</td>\n",
       "      <td>NaN</td>\n",
       "      <td>NaN</td>\n",
       "      <td>NaN</td>\n",
       "      <td>NaN</td>\n",
       "      <td>NaN</td>\n",
       "      <td>NaN</td>\n",
       "    </tr>\n",
       "    <tr>\n",
       "      <th>100168166</th>\n",
       "      <td>NaN</td>\n",
       "      <td>NaN</td>\n",
       "      <td>NaN</td>\n",
       "      <td>NaN</td>\n",
       "      <td>NaN</td>\n",
       "      <td>NaN</td>\n",
       "      <td>NaN</td>\n",
       "      <td>NaN</td>\n",
       "      <td>NaN</td>\n",
       "      <td>NaN</td>\n",
       "      <td>...</td>\n",
       "      <td>NaN</td>\n",
       "      <td>NaN</td>\n",
       "      <td>NaN</td>\n",
       "      <td>NaN</td>\n",
       "      <td>NaN</td>\n",
       "      <td>NaN</td>\n",
       "      <td>NaN</td>\n",
       "      <td>NaN</td>\n",
       "      <td>NaN</td>\n",
       "      <td>NaN</td>\n",
       "    </tr>\n",
       "  </tbody>\n",
       "</table>\n",
       "<p>5 rows × 427 columns</p>\n",
       "</div>"
      ],
      "text/plain": [
       "games      7 Days to Die  APB Reloaded  ARK Survival Evolved  Ace of Spades  \\\n",
       "user_id                                                                       \n",
       "100053304            NaN           NaN                   NaN            NaN   \n",
       "100057229            NaN           NaN                   NaN            NaN   \n",
       "100070732            NaN           NaN                   NaN            NaN   \n",
       "100096071            NaN           NaN                   NaN            NaN   \n",
       "100168166            NaN           NaN                   NaN            NaN   \n",
       "\n",
       "games      AdVenture Capitalist  Aftermath  Age of Chivalry  \\\n",
       "user_id                                                       \n",
       "100053304                   NaN        NaN              NaN   \n",
       "100057229                   NaN        NaN              NaN   \n",
       "100070732                   NaN        NaN              NaN   \n",
       "100096071                   NaN        NaN              NaN   \n",
       "100168166                   NaN        NaN              NaN   \n",
       "\n",
       "games      Age of Empires II HD Edition  \\\n",
       "user_id                                   \n",
       "100053304                           NaN   \n",
       "100057229                           NaN   \n",
       "100070732                           NaN   \n",
       "100096071                           NaN   \n",
       "100168166                           NaN   \n",
       "\n",
       "games      Age of Empires III Complete Collection  \\\n",
       "user_id                                             \n",
       "100053304                                     NaN   \n",
       "100057229                                     NaN   \n",
       "100070732                                     NaN   \n",
       "100096071                                     NaN   \n",
       "100168166                                     NaN   \n",
       "\n",
       "games      Age of Mythology Extended Edition  ...  \\\n",
       "user_id                                       ...   \n",
       "100053304                                NaN  ...   \n",
       "100057229                                NaN  ...   \n",
       "100070732                                NaN  ...   \n",
       "100096071                                NaN  ...   \n",
       "100168166                                NaN  ...   \n",
       "\n",
       "games      Warhammer 40,000 Dawn of War II - Chaos Rising  \\\n",
       "user_id                                                     \n",
       "100053304                                             NaN   \n",
       "100057229                                             NaN   \n",
       "100070732                                             NaN   \n",
       "100096071                                             NaN   \n",
       "100168166                                             NaN   \n",
       "\n",
       "games      Warhammer 40,000 Space Marine  Wasteland 2  Watch_Dogs  \\\n",
       "user_id                                                             \n",
       "100053304                            NaN          NaN         NaN   \n",
       "100057229                            NaN          NaN         NaN   \n",
       "100070732                            NaN          NaN         NaN   \n",
       "100096071                            NaN          NaN         NaN   \n",
       "100168166                            NaN          NaN         NaN   \n",
       "\n",
       "games      Wolfenstein The New Order  Worms Reloaded  Worms Revolution  \\\n",
       "user_id                                                                  \n",
       "100053304                        NaN             NaN               NaN   \n",
       "100057229                        NaN             NaN               NaN   \n",
       "100070732                        NaN             NaN               NaN   \n",
       "100096071                        NaN             NaN               NaN   \n",
       "100168166                        NaN             NaN               NaN   \n",
       "\n",
       "games      XCOM Enemy Unknown  Zombie Panic Source  theHunter  \n",
       "user_id                                                        \n",
       "100053304                 NaN                  NaN        NaN  \n",
       "100057229                 NaN                  NaN        NaN  \n",
       "100070732                 NaN                  NaN        NaN  \n",
       "100096071                 NaN                  NaN        NaN  \n",
       "100168166                 NaN                  NaN        NaN  \n",
       "\n",
       "[5 rows x 427 columns]"
      ]
     },
     "execution_count": 37,
     "metadata": {},
     "output_type": "execute_result"
    }
   ],
   "source": [
    "#checking shape of pivot table\n",
    "print(piv.shape)\n",
    "#check first five rows of pivot table\n",
    "piv.head(5)"
   ]
  },
  {
   "cell_type": "code",
   "execution_count": 39,
   "metadata": {
    "id": "Ms7p71YdUbLU"
   },
   "outputs": [],
   "source": [
    "## Note: As we are subtracting the mean from each rating to standardize\n",
    "##all users with only one rating or who had rated everything the same will be dropped\n",
    "# Normalizing the values in pivot table\n",
    "piv_norm=piv.apply(lambda x: (x-np.mean(x))/(np.max(x)-np.min(x)),axis=1)\n",
    "\n",
    "\n",
    "# Dropping all columns containing only zeros representing users who did not rate\n",
    "piv_norm.fillna(0,inplace=True)\n",
    "piv_norm=piv_norm.T\n",
    "piv_norm=piv_norm.loc[:,(piv_norm !=0).any(axis=0)]"
   ]
  },
  {
   "cell_type": "code",
   "execution_count": 40,
   "metadata": {
    "id": "inXGLPRdVJ5-"
   },
   "outputs": [],
   "source": [
    "# importing scipy, operator\n",
    "import scipy as sp\n",
    "from sklearn.metrics.pairwise import cosine_similarity\n",
    "import operator"
   ]
  },
  {
   "cell_type": "code",
   "execution_count": 41,
   "metadata": {
    "id": "xpsBIdLbUbJn"
   },
   "outputs": [],
   "source": [
    "# converting the data into sparse matrix format to be read by the following functions\n",
    "piv_sparse=sp.sparse.csr_matrix(piv_norm.values)\n"
   ]
  },
  {
   "cell_type": "code",
   "execution_count": 42,
   "metadata": {
    "id": "161las8mUbGe"
   },
   "outputs": [],
   "source": [
    "# creating matrices to show the computed cosine similarity values between each user/user array pair and item/item array pair.\n",
    "item_similarity=cosine_similarity(piv_sparse)\n",
    "user_similarity=cosine_similarity(piv_sparse.T)\n"
   ]
  },
  {
   "cell_type": "code",
   "execution_count": 45,
   "metadata": {
    "id": "JWrYUdrCUbEu"
   },
   "outputs": [],
   "source": [
    "# Inserting the similarity matricies into dataframe objects\n",
    "\n",
    "#item similarity dataframe\n",
    "item_sim_df=pd.DataFrame(item_similarity,index=piv_norm.index,columns=piv_norm.index)\n",
    "\n",
    "#user similarity dataframe\n",
    "user_sim_df=pd.DataFrame(user_similarity,index=piv_norm.columns,columns=piv_norm.columns)\n"
   ]
  },
  {
   "cell_type": "code",
   "execution_count": 59,
   "metadata": {
    "id": "VBSl_QsTUbCh"
   },
   "outputs": [],
   "source": [
    "# writing a function which will return the top 10 games with the highest cosine similarity value\n",
    "\n",
    "def top_game(game):\n",
    "    count=1\n",
    "    print('similar games to {} include :\\n'.format(game))\n",
    "    for item in item_sim_df.sort_values(by=game,ascending=False).index[1:11]:\n",
    "        print('No .{} :{}'.format(count,item))\n",
    "        count += 1\n",
    "\n"
   ]
  },
  {
   "cell_type": "code",
   "execution_count": 60,
   "metadata": {
    "colab": {
     "base_uri": "https://localhost:8080/"
    },
    "id": "JZ3vQNUQUbA9",
    "outputId": "e7141b30-85f0-4de8-feec-4a1820950704"
   },
   "outputs": [
    {
     "name": "stdout",
     "output_type": "stream",
     "text": [
      "similar games to Aftermath include :\n",
      "\n",
      "No .1 :Alice Madness Returns\n",
      "No .2 :Shadow Warrior\n",
      "No .3 :Brtal Legend\n",
      "No .4 :Resident Evil 5 / Biohazard 5\n",
      "No .5 :Infestation Survivor Stories\n",
      "No .6 :Call of Juarez Gunslinger\n",
      "No .7 :The Walking Dead Season Two\n",
      "No .8 :Counter-Strike Nexon Zombies\n",
      "No .9 :Star Conflict\n",
      "No .10 :L.A. Noire\n"
     ]
    }
   ],
   "source": [
    "top_game('Aftermath')"
   ]
  },
  {
   "cell_type": "code",
   "execution_count": 61,
   "metadata": {
    "colab": {
     "base_uri": "https://localhost:8080/"
    },
    "id": "0v0_2KKkW6BN",
    "outputId": "4e1e2aa5-42fe-4e8f-ed19-b175b32f2b41"
   },
   "outputs": [
    {
     "data": {
      "text/plain": [
       "Index(['100057229', '100096071', '100311267', '100322840', '100351493',\n",
       "       '100359523', '100431715', '100444456', '100519466', '100630947',\n",
       "       ...\n",
       "       '994489', '9946133', '99484728', '99640715', '99704390', '99711581',\n",
       "       '99713453', '99723205', '99766416', '99802512'],\n",
       "      dtype='object', name='user_id', length=3056)"
      ]
     },
     "execution_count": 61,
     "metadata": {},
     "output_type": "execute_result"
    }
   ],
   "source": [
    "# checking the column of pivot table\n",
    "piv_norm.columns"
   ]
  },
  {
   "cell_type": "code",
   "execution_count": 78,
   "metadata": {
    "id": "U6_RWwwWUa_b"
   },
   "outputs": [],
   "source": [
    "# writing a function which will return the top 5 users with the highest similarity value \n",
    "\n",
    "def top_users(user):\n",
    "    \n",
    "    if user not in piv_norm.columns:\n",
    "        return('No data available on user {}'.format(user))\n",
    "    \n",
    "    print('Most Similar users :\\n')\n",
    "    sim_values = user_sim_df.sort_values(by=user, ascending=False).loc[:,user].tolist()[1:11]\n",
    "    sim_users = user_sim_df.sort_values(by=user, ascending=False).index[1:11]\n",
    "    zipped = zip(sim_users, sim_values,)\n",
    "    for user, sim in zipped:\n",
    "        print('User #{0}, Similarity value:{1:.2f}' .format(user, sim))\n",
    "    \n"
   ]
  },
  {
   "cell_type": "code",
   "execution_count": 79,
   "metadata": {
    "colab": {
     "base_uri": "https://localhost:8080/"
    },
    "id": "zgwURJjDUa84",
    "outputId": "9809d7dc-27bf-40af-a5fb-86682767dc5b"
   },
   "outputs": [
    {
     "name": "stdout",
     "output_type": "stream",
     "text": [
      "Most Similar users :\n",
      "\n",
      "User #40289887, Similarity value:0.73\n",
      "User #185494712, Similarity value:0.71\n",
      "User #16710264, Similarity value:0.71\n",
      "User #20566124, Similarity value:0.67\n",
      "User #49769103, Similarity value:0.67\n",
      "User #15702351, Similarity value:0.65\n",
      "User #161139120, Similarity value:0.59\n",
      "User #202057920, Similarity value:0.58\n",
      "User #57271785, Similarity value:0.58\n",
      "User #33993318, Similarity value:0.58\n"
     ]
    }
   ],
   "source": [
    "top_users('99484728')"
   ]
  },
  {
   "cell_type": "code",
   "execution_count": 92,
   "metadata": {
    "id": "Ucy6tuedUa6N"
   },
   "outputs": [],
   "source": [
    "# writing a function which constructs a list of lists containing the highest rated games per similar user\n",
    "# and returns the name of the game along with the frequency it appears in the list\n",
    "\n",
    "def similar_user_recs(user):\n",
    "    \n",
    "    if user not in piv_norm.columns:\n",
    "        return('No data available on user {}'.format(user))\n",
    "    \n",
    "    sim_users = user_sim_df.sort_values(by=user,ascending=False).index[1:11]\n",
    "    \n",
    "    best=[]\n",
    "    most_common = {}\n",
    "    \n",
    "    for i in sim_users:\n",
    "        max_score = piv_norm.loc[:, i].max()\n",
    "        best.append(piv_norm[piv_norm.loc[:, i]==max_score].index.tolist())\n",
    "    for i in range(len(best)):\n",
    "        for j in best[i]:\n",
    "            if j in most_common:\n",
    "                most_common[j] += 1\n",
    "            else :\n",
    "                most_common[j] = 1\n",
    "    sorted_list = sorted(most_common.items(), key=operator.itemgetter(1),reverse=True)\n",
    "    return sorted_list[:5]\n"
   ]
  },
  {
   "cell_type": "code",
   "execution_count": 93,
   "metadata": {
    "colab": {
     "base_uri": "https://localhost:8080/"
    },
    "id": "ewOZTTgYUa4E",
    "outputId": "8abe8bca-1398-4183-f90b-594cc66d201d"
   },
   "outputs": [
    {
     "data": {
      "text/plain": [
       "[('Robocraft', 6),\n",
       " ('BLOCKADE 3D', 2),\n",
       " (\"Garry's Mod\", 2),\n",
       " ('ARK Survival Evolved', 1),\n",
       " ('Dino D-Day', 1)]"
      ]
     },
     "execution_count": 93,
     "metadata": {},
     "output_type": "execute_result"
    }
   ],
   "source": [
    "\n",
    "similar_user_recs('100519466')"
   ]
  },
  {
   "cell_type": "markdown",
   "metadata": {
    "id": "B-gp2ijmu1aS"
   },
   "source": [
    "# COLLABORATIVE FILTERING USING KNN\n",
    "\n"
   ]
  },
  {
   "cell_type": "code",
   "execution_count": 96,
   "metadata": {
    "colab": {
     "base_uri": "https://localhost:8080/"
    },
    "id": "t1gOIvynUaxv",
    "outputId": "4c420faf-f57e-4411-b130-bfa0fccb61cc"
   },
   "outputs": [
    {
     "data": {
      "text/plain": [
       "NearestNeighbors(algorithm='brute', metric='cosine', n_jobs=1, n_neighbors=20)"
      ]
     },
     "execution_count": 96,
     "metadata": {},
     "output_type": "execute_result"
    }
   ],
   "source": [
    "# importing NearestNeighbors\n",
    "from sklearn.neighbors import NearestNeighbors\n",
    "#making an object for the NearestNeighbors Class.\n",
    "model_knn = NearestNeighbors(metric='cosine',algorithm='brute', n_neighbors=20, n_jobs =1)\n",
    "\n",
    "# fitting the dataset\n",
    "model_knn.fit(piv_norm)"
   ]
  },
  {
   "cell_type": "markdown",
   "metadata": {
    "id": "DUQpiGdRFP6w"
   },
   "source": [
    "\n",
    "Test model and make some recommendations:"
   ]
  },
  {
   "cell_type": "code",
   "execution_count": 104,
   "metadata": {
    "colab": {
     "base_uri": "https://localhost:8080/"
    },
    "id": "lYoqkJefFujG",
    "outputId": "8250f7c2-0fd6-48e7-8ca8-7f0a648843f5"
   },
   "outputs": [
    {
     "name": "stdout",
     "output_type": "stream",
     "text": [
      "Choosen game is: Alien Swarm\n",
      "Recommendations for Alien Swarm :\n",
      "\n",
      "1: Assassin's Creed II, with distance of 0.8810562859363501:\n",
      "2: S.T.A.L.K.E.R. Shadow of Chernobyl, with distance of 0.8932917362443583:\n",
      "3: Grand Theft Auto Episodes from Liberty City, with distance of 0.9030129967151654:\n",
      "4: Titan Quest Immortal Throne, with distance of 0.9108182274536735:\n",
      "5: Shadow Warrior, with distance of 0.9143139995800195:\n"
     ]
    },
    {
     "name": "stderr",
     "output_type": "stream",
     "text": [
      "C:\\Python 3.10\\lib\\site-packages\\sklearn\\base.py:445: UserWarning: X does not have valid feature names, but NearestNeighbors was fitted with feature names\n",
      "  warnings.warn(\n"
     ]
    }
   ],
   "source": [
    "# choosing random game\n",
    "query_index= np.random.choice(piv_norm.shape[0])\n",
    "# printing the name of random game\n",
    "print('Choosen game is:',piv_norm.index[query_index])\n",
    "\n",
    "# using kNnormalgorithm to measures distance to determine the closeness of instances.\n",
    "distances, indices = model_knn.kneighbors(piv_norm.iloc[query_index, :].values.reshape(1, -1), n_neighbors = 6)\n",
    "\n",
    "\n",
    "# picking most popular games among the neighbors and print their names\n",
    "\n",
    "for i in range(0, len(distances.flatten())):\n",
    "    if i == 0:\n",
    "        print('Recommendations for {0} :\\n'.format(piv_norm.index[query_index]))\n",
    "    else:\n",
    "        print('{0}: {1}, with distance of {2}:'.format(i, piv_norm.index[indices.flatten()[i]], distances.flatten()[i]))\n",
    "    "
   ]
  },
  {
   "cell_type": "markdown",
   "metadata": {
    "id": "qQdGSocKKfYP"
   },
   "source": [
    "#Conclusion\n",
    "\n",
    "We can use different different methods based on our problem statement and dataset. Here we used collaborative filtering technique to recommend games.We can use this method to recommend alot of other things as well such as music, movies, books, news etc. "
   ]
  },
  {
   "cell_type": "markdown",
   "metadata": {
    "id": "fOAgBtYiKYlK"
   },
   "source": [
    "\n",
    "\n"
   ]
  }
 ],
 "metadata": {
  "colab": {
   "collapsed_sections": [],
   "name": "steam video game.ipynb",
   "provenance": []
  },
  "kernelspec": {
   "display_name": "Python 3 (ipykernel)",
   "language": "python",
   "name": "python3"
  },
  "language_info": {
   "codemirror_mode": {
    "name": "ipython",
    "version": 3
   },
   "file_extension": ".py",
   "mimetype": "text/x-python",
   "name": "python",
   "nbconvert_exporter": "python",
   "pygments_lexer": "ipython3",
   "version": "3.10.0"
  }
 },
 "nbformat": 4,
 "nbformat_minor": 4
}
